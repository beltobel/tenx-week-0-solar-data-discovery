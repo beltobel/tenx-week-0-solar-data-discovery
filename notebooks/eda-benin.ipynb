{
 "cells": [
  {
   "cell_type": "markdown",
   "id": "5ba289c5",
   "metadata": {},
   "source": [
    "### importing necessary libraries "
   ]
  },
  {
   "cell_type": "code",
   "execution_count": 2,
   "id": "8e1d8767",
   "metadata": {},
   "outputs": [],
   "source": [
    "import pandas as pd\n",
    "import numpy as np\n",
    "import matplotlib.pyplot as plt\n",
    "import seaborn as sns\n",
    "from scipy import stats"
   ]
  },
  {
   "cell_type": "code",
   "execution_count": 3,
   "id": "1d5717c1",
   "metadata": {},
   "outputs": [],
   "source": [
    "from sklearn.impute import KNNImputer\n",
    "from sklearn.preprocessing import StandardScaler, LabelEncoder"
   ]
  },
  {
   "cell_type": "markdown",
   "id": "6337ff44",
   "metadata": {},
   "source": [
    "### 1. Business understanding \n",
    "MoonLight Energy Solutions aims to develop a strategic approach to significantly enhance its operational efficiency and sustainability through targeted solar investments\n",
    "goal: to perform a quick analysis of an environmental measurement provided by the engineering team and translate your observation as a strategy report for the company"
   ]
  },
  {
   "cell_type": "markdown",
   "id": "8473aea7",
   "metadata": {},
   "source": [
    "### 2. Data understanding\n",
    "     - datasets  sources.\n",
    "        -data source from: https://energydata.info/dataset/?q=Solar+Radiation+Measurement&vocab_regions=AFR\n",
    "\n",
    "     -data structure and variable descriptions.\n",
    "        -Each row in the data contains the values for solar radiation, air temperature, relative humidity, barometric pressure, precipitation, wind speed, and wind direction, cleaned and soiled radiance sensor (soiling measurement) and cleaning events."
   ]
  },
  {
   "cell_type": "markdown",
   "id": "d2f49c52",
   "metadata": {},
   "source": [
    "#### => Describe data structure"
   ]
  },
  {
   "cell_type": "code",
   "execution_count": 5,
   "id": "5c90c216",
   "metadata": {},
   "outputs": [
    {
     "name": "stdout",
     "output_type": "stream",
     "text": [
      "Dataset loaded successfully. Shape: (525600, 19)\n"
     ]
    }
   ],
   "source": [
    "#load data \n",
    "#data = pd.read_csv(\"../data/benin_malanville.csv\")\n",
    "\n",
    "data = '../data/benin_malanville.csv'  \n",
    "\n",
    "try:\n",
    "    # Load the CSV file\n",
    "    df = pd.read_csv(data)\n",
    "    print(\"Dataset loaded successfully. Shape:\", df.shape)\n",
    "except FileNotFoundError:\n",
    "    print(f\"Error: The file {data} was not found. Please provide the correct file path.\")\n",
    "    exit()\n",
    "except Exception as e:\n",
    "    print(f\"Error loading CSV file: {e}\")\n",
    "    exit()"
   ]
  },
  {
   "cell_type": "code",
   "execution_count": 7,
   "id": "48e8a123",
   "metadata": {},
   "outputs": [
    {
     "name": "stdout",
     "output_type": "stream",
     "text": [
      "Data Shape: (525600, 19)\n"
     ]
    }
   ],
   "source": [
    "\n",
    "print(\"Data Shape:\", df.shape)"
   ]
  },
  {
   "cell_type": "markdown",
   "id": "35e0b48a",
   "metadata": {},
   "source": [
    "output: data have 525600 rows and 19 columns"
   ]
  },
  {
   "cell_type": "code",
   "execution_count": 8,
   "id": "aa30e768",
   "metadata": {},
   "outputs": [
    {
     "name": "stdout",
     "output_type": "stream",
     "text": [
      "First 5 rows of the dataset:\n",
      "          Timestamp  GHI  DNI  DHI  ModA  ModB  Tamb    RH   WS  WSgust  \\\n",
      "0  2021-08-09 00:01 -1.2 -0.2 -1.1   0.0   0.0  26.2  93.4  0.0     0.4   \n",
      "1  2021-08-09 00:02 -1.1 -0.2 -1.1   0.0   0.0  26.2  93.6  0.0     0.0   \n",
      "2  2021-08-09 00:03 -1.1 -0.2 -1.1   0.0   0.0  26.2  93.7  0.3     1.1   \n",
      "3  2021-08-09 00:04 -1.1 -0.1 -1.0   0.0   0.0  26.2  93.3  0.2     0.7   \n",
      "4  2021-08-09 00:05 -1.0 -0.1 -1.0   0.0   0.0  26.2  93.3  0.1     0.7   \n",
      "\n",
      "   WSstdev     WD  WDstdev   BP  Cleaning  Precipitation  TModA  TModB  \\\n",
      "0      0.1  122.1      0.0  998         0            0.0   26.3   26.2   \n",
      "1      0.0    0.0      0.0  998         0            0.0   26.3   26.2   \n",
      "2      0.5  124.6      1.5  997         0            0.0   26.4   26.2   \n",
      "3      0.4  120.3      1.3  997         0            0.0   26.4   26.3   \n",
      "4      0.3  113.2      1.0  997         0            0.0   26.4   26.3   \n",
      "\n",
      "   Comments  \n",
      "0       NaN  \n",
      "1       NaN  \n",
      "2       NaN  \n",
      "3       NaN  \n",
      "4       NaN  \n"
     ]
    }
   ],
   "source": [
    "print(\"First 5 rows of the dataset:\")\n",
    "print(df.head())\n"
   ]
  },
  {
   "cell_type": "code",
   "execution_count": 9,
   "id": "1ac6ea2e",
   "metadata": {},
   "outputs": [
    {
     "name": "stdout",
     "output_type": "stream",
     "text": [
      "Last 5 rows of the dataset:\n",
      "               Timestamp  GHI  DNI  DHI  ModA  ModB  Tamb    RH   WS  WSgust  \\\n",
      "525595  2022-08-08 23:56 -5.5 -0.1 -5.9   0.0   0.0  23.1  98.3  0.3     1.1   \n",
      "525596  2022-08-08 23:57 -5.5 -0.1 -5.8   0.0   0.0  23.1  98.3  0.2     0.7   \n",
      "525597  2022-08-08 23:58 -5.5 -0.1 -5.8   0.0   0.0  23.1  98.4  0.6     1.1   \n",
      "525598  2022-08-08 23:59 -5.5 -0.1 -5.8   0.0   0.0  23.1  98.3  0.9     1.3   \n",
      "525599  2022-08-09 00:00 -5.5 -0.1 -5.7   0.0   0.0  23.1  98.3  1.2     1.6   \n",
      "\n",
      "        WSstdev     WD  WDstdev   BP  Cleaning  Precipitation  TModA  TModB  \\\n",
      "525595      0.5  119.3      4.1  996         0            0.0   23.5   22.9   \n",
      "525596      0.4  115.2      2.3  996         0            0.0   23.5   22.9   \n",
      "525597      0.5  129.8      3.4  996         0            0.0   23.5   22.9   \n",
      "525598      0.5  124.4      4.3  996         0            0.0   23.5   22.9   \n",
      "525599      0.3  124.1      5.9  996         0            0.0   23.5   22.9   \n",
      "\n",
      "        Comments  \n",
      "525595       NaN  \n",
      "525596       NaN  \n",
      "525597       NaN  \n",
      "525598       NaN  \n",
      "525599       NaN  \n"
     ]
    }
   ],
   "source": [
    "print(\"Last 5 rows of the dataset:\")\n",
    "print(df.tail())"
   ]
  },
  {
   "cell_type": "code",
   "execution_count": 10,
   "id": "5ce685e5",
   "metadata": {},
   "outputs": [
    {
     "name": "stdout",
     "output_type": "stream",
     "text": [
      "\n",
      "Data Informtion:\n",
      "<class 'pandas.core.frame.DataFrame'>\n",
      "RangeIndex: 525600 entries, 0 to 525599\n",
      "Data columns (total 19 columns):\n",
      " #   Column         Non-Null Count   Dtype  \n",
      "---  ------         --------------   -----  \n",
      " 0   Timestamp      525600 non-null  object \n",
      " 1   GHI            525600 non-null  float64\n",
      " 2   DNI            525600 non-null  float64\n",
      " 3   DHI            525600 non-null  float64\n",
      " 4   ModA           525600 non-null  float64\n",
      " 5   ModB           525600 non-null  float64\n",
      " 6   Tamb           525600 non-null  float64\n",
      " 7   RH             525600 non-null  float64\n",
      " 8   WS             525600 non-null  float64\n",
      " 9   WSgust         525600 non-null  float64\n",
      " 10  WSstdev        525600 non-null  float64\n",
      " 11  WD             525600 non-null  float64\n",
      " 12  WDstdev        525600 non-null  float64\n",
      " 13  BP             525600 non-null  int64  \n",
      " 14  Cleaning       525600 non-null  int64  \n",
      " 15  Precipitation  525600 non-null  float64\n",
      " 16  TModA          525600 non-null  float64\n",
      " 17  TModB          525600 non-null  float64\n",
      " 18  Comments       0 non-null       float64\n",
      "dtypes: float64(16), int64(2), object(1)\n",
      "memory usage: 76.2+ MB\n",
      "None\n"
     ]
    }
   ],
   "source": [
    "#data information\n",
    "print(\"\\nData Informtion:\")\n",
    "print(df.info())"
   ]
  },
  {
   "cell_type": "markdown",
   "id": "5f970029",
   "metadata": {},
   "source": [
    "#### Specifying numerical and categorical columns"
   ]
  },
  {
   "cell_type": "code",
   "execution_count": 11,
   "id": "fd7bf34b",
   "metadata": {},
   "outputs": [
    {
     "name": "stdout",
     "output_type": "stream",
     "text": [
      "\n",
      "Summary Statistics:\n",
      "                 GHI            DNI            DHI           ModA  \\\n",
      "count  525600.000000  525600.000000  525600.000000  525600.000000   \n",
      "mean      240.559452     167.187516     115.358961     236.589496   \n",
      "std       331.131327     261.710501     158.691074     326.894859   \n",
      "min       -12.900000      -7.800000     -12.600000       0.000000   \n",
      "25%        -2.000000      -0.500000      -2.100000       0.000000   \n",
      "50%         1.800000      -0.100000       1.600000       4.500000   \n",
      "75%       483.400000     314.200000     216.300000     463.700000   \n",
      "max      1413.000000     952.300000     759.200000    1342.300000   \n",
      "\n",
      "                ModB           Tamb             RH             WS  \\\n",
      "count  525600.000000  525600.000000  525600.000000  525600.000000   \n",
      "mean      228.883576      28.179683      54.487969       2.121113   \n",
      "std       316.536515       5.924297      28.073069       1.603466   \n",
      "min         0.000000      11.000000       2.100000       0.000000   \n",
      "25%         0.000000      24.200000      28.800000       1.000000   \n",
      "50%         4.300000      28.000000      55.100000       1.900000   \n",
      "75%       447.900000      32.300000      80.100000       3.100000   \n",
      "max      1342.300000      43.800000     100.000000      19.500000   \n",
      "\n",
      "              WSgust        WSstdev             WD        WDstdev  \\\n",
      "count  525600.000000  525600.000000  525600.000000  525600.000000   \n",
      "mean        2.809195       0.473390     153.435172       8.582407   \n",
      "std         2.029120       0.273395     102.332842       6.385864   \n",
      "min         0.000000       0.000000       0.000000       0.000000   \n",
      "25%         1.300000       0.400000      59.000000       3.700000   \n",
      "50%         2.600000       0.500000     181.000000       8.600000   \n",
      "75%         4.100000       0.600000     235.100000      12.300000   \n",
      "max        26.600000       4.200000     360.000000      99.400000   \n",
      "\n",
      "                  BP       Cleaning  Precipitation          TModA  \\\n",
      "count  525600.000000  525600.000000  525600.000000  525600.000000   \n",
      "mean      994.197199       0.000923       0.001905      35.246026   \n",
      "std         2.474993       0.030363       0.037115      14.807258   \n",
      "min       985.000000       0.000000       0.000000       9.000000   \n",
      "25%       993.000000       0.000000       0.000000      24.200000   \n",
      "50%       994.000000       0.000000       0.000000      30.000000   \n",
      "75%       996.000000       0.000000       0.000000      46.900000   \n",
      "max      1003.000000       1.000000       2.500000      81.000000   \n",
      "\n",
      "               TModB  Comments  \n",
      "count  525600.000000       0.0  \n",
      "mean       32.471736       NaN  \n",
      "std        12.348743       NaN  \n",
      "min         8.100000       NaN  \n",
      "25%        23.600000       NaN  \n",
      "50%        28.900000       NaN  \n",
      "75%        41.500000       NaN  \n",
      "max        72.500000       NaN  \n"
     ]
    }
   ],
   "source": [
    "print(\"\\nSummary Statistics:\")\n",
    "print(df.describe()) # for numerical columns"
   ]
  },
  {
   "cell_type": "code",
   "execution_count": 12,
   "id": "af7c2ed0",
   "metadata": {},
   "outputs": [
    {
     "name": "stdout",
     "output_type": "stream",
     "text": [
      "               Timestamp\n",
      "count             525600\n",
      "unique            525600\n",
      "top     2022-08-08 23:44\n",
      "freq                   1\n"
     ]
    }
   ],
   "source": [
    "#for categorical or boolean columns\n",
    "print(df.describe(include=['object', 'category', 'bool']))"
   ]
  },
  {
   "cell_type": "code",
   "execution_count": 13,
   "id": "d663da5b",
   "metadata": {},
   "outputs": [
    {
     "name": "stdout",
     "output_type": "stream",
     "text": [
      "Numerical columns: ['GHI', 'DNI', 'DHI', 'ModA', 'ModB', 'Tamb', 'RH', 'WS', 'WSgust', 'WSstdev', 'WD', 'WDstdev', 'BP', 'Cleaning', 'Precipitation', 'TModA', 'TModB', 'Comments']\n",
      "Categorical columns: ['Timestamp']\n"
     ]
    }
   ],
   "source": [
    "numerical_columns = []  \n",
    "categorical_columns = [] \n",
    "\n",
    "\n",
    "if not numerical_columns:\n",
    "    numerical_columns = df.select_dtypes(include=['int64', 'float64']).columns.tolist()\n",
    "if not categorical_columns:\n",
    "    categorical_columns = df.select_dtypes(include=['object']).columns.tolist()\n",
    "\n",
    "print(\"Numerical columns:\", numerical_columns)\n",
    "print(\"Categorical columns:\", categorical_columns)"
   ]
  },
  {
   "cell_type": "markdown",
   "id": "a0cd48af",
   "metadata": {},
   "source": [
    "#### =>Check for missing values"
   ]
  },
  {
   "cell_type": "code",
   "execution_count": 14,
   "id": "1e20531a",
   "metadata": {},
   "outputs": [
    {
     "name": "stdout",
     "output_type": "stream",
     "text": [
      "\n",
      "Missing Values:\n",
      "Timestamp             0\n",
      "GHI                   0\n",
      "DNI                   0\n",
      "DHI                   0\n",
      "ModA                  0\n",
      "ModB                  0\n",
      "Tamb                  0\n",
      "RH                    0\n",
      "WS                    0\n",
      "WSgust                0\n",
      "WSstdev               0\n",
      "WD                    0\n",
      "WDstdev               0\n",
      "BP                    0\n",
      "Cleaning              0\n",
      "Precipitation         0\n",
      "TModA                 0\n",
      "TModB                 0\n",
      "Comments         525600\n",
      "dtype: int64\n"
     ]
    }
   ],
   "source": [
    "print(\"\\nMissing Values:\")\n",
    "print(df.isnull().sum())"
   ]
  },
  {
   "cell_type": "code",
   "execution_count": 15,
   "id": "09ca546a",
   "metadata": {},
   "outputs": [],
   "source": [
    "# Impute numerical columns using mean\n",
    "for col in numerical_columns:\n",
    "    if df[col].isnull().any():\n",
    "        df[col] = df[col].fillna(df[col].mean())"
   ]
  },
  {
   "cell_type": "code",
   "execution_count": 17,
   "id": "3772b95e",
   "metadata": {},
   "outputs": [
    {
     "name": "stdout",
     "output_type": "stream",
     "text": [
      "\n",
      "Missing values after imputation:\n",
      " Timestamp             0\n",
      "GHI                   0\n",
      "DNI                   0\n",
      "DHI                   0\n",
      "ModA                  0\n",
      "ModB                  0\n",
      "Tamb                  0\n",
      "RH                    0\n",
      "WS                    0\n",
      "WSgust                0\n",
      "WSstdev               0\n",
      "WD                    0\n",
      "WDstdev               0\n",
      "BP                    0\n",
      "Cleaning              0\n",
      "Precipitation         0\n",
      "TModA                 0\n",
      "TModB                 0\n",
      "Comments         525600\n",
      "dtype: int64\n"
     ]
    }
   ],
   "source": [
    "for col in categorical_columns:\n",
    "    if df[col].isnull().any():\n",
    "        df[col] = df[col].fillna(df[col].mode()[0])\n",
    "\n",
    "print(\"\\nMissing values after imputation:\\n\", df.isnull().sum())"
   ]
  },
  {
   "cell_type": "code",
   "execution_count": 21,
   "id": "ec44ee66",
   "metadata": {},
   "outputs": [
    {
     "name": "stdout",
     "output_type": "stream",
     "text": [
      "\n",
      "Outlier rows (z-score):\n",
      "                Timestamp    GHI    DNI    DHI   ModA   ModB  Tamb    RH   WS  \\\n",
      "665     2021-08-09 11:09  843.0  304.1  554.9  790.5  796.6  30.2  69.1  2.3   \n",
      "666     2021-08-09 11:10  776.4  201.1  583.3  740.4  745.0  30.2  69.0  2.8   \n",
      "704     2021-08-09 11:56  644.6   60.8  577.8  600.1  603.9  30.4  67.9  3.2   \n",
      "705     2021-08-09 11:57  611.0   17.1  587.4  572.2  575.5  30.3  68.1  3.6   \n",
      "706     2021-08-09 12:01  617.5   27.1  583.6  579.7  583.8  30.4  68.4  3.2   \n",
      "...                  ...    ...    ...    ...    ...    ...   ...   ...  ...   \n",
      "507407  2022-08-08 18:11   16.3   -0.1   16.3   18.4   17.9  22.3  98.8  0.7   \n",
      "507412  2022-08-08 18:16   15.9   -0.1   15.8   18.4   18.1  22.2  98.8  0.6   \n",
      "507418  2022-08-08 18:22   15.1   -0.1   15.1   17.8   17.4  22.3  98.8  0.3   \n",
      "507432  2022-08-08 18:36    8.1   -0.1    7.7   11.7   11.4  22.4  98.5  0.1   \n",
      "507660  2022-08-08 22:24   -5.6   -0.2   -5.5    0.0    0.0  22.9  98.7  2.2   \n",
      "\n",
      "        WSgust  WSstdev     WD  WDstdev   BP  Cleaning  Precipitation  TModA  \\\n",
      "665        3.6      0.8  171.3     25.8  999         0            0.0   62.2   \n",
      "666        3.6      0.6  171.8     20.1  999         0            0.0   62.6   \n",
      "704        4.4      0.9  211.8     15.1  999         0            0.0   55.5   \n",
      "705        4.1      0.5  218.5      6.6  999         0            0.0   55.6   \n",
      "706        4.1      0.7  215.9     13.7  999         0            0.0   56.0   \n",
      "...        ...      ...    ...      ...  ...       ...            ...    ...   \n",
      "507407     1.3      0.6   75.6      3.1  994         0            0.1   23.2   \n",
      "507412     1.1      0.5    9.5      4.7  994         0            0.1   23.2   \n",
      "507418     1.1      0.5  339.3      4.7  994         0            0.1   23.2   \n",
      "507432     0.7      0.3  280.1      2.1  993         0            0.1   23.1   \n",
      "507660     2.6      0.4  157.8      5.8  995         0            0.1   23.2   \n",
      "\n",
      "        TModB  Comments  \n",
      "665      52.1       NaN  \n",
      "666      52.6       NaN  \n",
      "704      47.9       NaN  \n",
      "705      48.0       NaN  \n",
      "706      48.5       NaN  \n",
      "...       ...       ...  \n",
      "507407   22.4       NaN  \n",
      "507412   22.4       NaN  \n",
      "507418   22.4       NaN  \n",
      "507432   22.4       NaN  \n",
      "507660   22.6       NaN  \n",
      "\n",
      "[8048 rows x 19 columns]\n"
     ]
    }
   ],
   "source": [
    "# Remove or Correct Outliers (for numerical columns)\n",
    "if numerical_columns:\n",
    "    # Identify outliers using z-score\n",
    "    z_scores = np.abs(stats.zscore(df[numerical_columns]))\n",
    "    threshold = 3\n",
    "    outliers = (z_scores > threshold).any(axis=1)\n",
    "    print(\"\\nOutlier rows (z-score):\\n\", df[outliers])\n"
   ]
  },
  {
   "cell_type": "code",
   "execution_count": null,
   "id": "89056eb1",
   "metadata": {},
   "outputs": [],
   "source": [
    "# Remove outliers\n",
    "df = df[~outliers].reset_index(drop=True)"
   ]
  },
  {
   "cell_type": "code",
   "execution_count": 24,
   "id": "6d7210e5",
   "metadata": {},
   "outputs": [],
   "source": [
    "#Standardize Data\n",
    "# Convert categorical text to consistent format (lowercase)\n",
    "for col in categorical_columns:\n",
    "    if df[col].dtype == 'object':\n",
    "        df[col] = df[col].str.lower()\n"
   ]
  },
  {
   "cell_type": "code",
   "execution_count": 25,
   "id": "5f876f7f",
   "metadata": {},
   "outputs": [
    {
     "name": "stderr",
     "output_type": "stream",
     "text": [
      "g:\\Tnxs\\kifiya5\\week0\\tenx-week-0-solar-data-discovery\\.venv\\Lib\\site-packages\\sklearn\\utils\\extmath.py:1101: RuntimeWarning: invalid value encountered in divide\n",
      "  updated_mean = (last_sum + new_sum) / updated_sample_count\n",
      "g:\\Tnxs\\kifiya5\\week0\\tenx-week-0-solar-data-discovery\\.venv\\Lib\\site-packages\\sklearn\\utils\\extmath.py:1106: RuntimeWarning: invalid value encountered in divide\n",
      "  T = new_sum / new_sample_count\n",
      "g:\\Tnxs\\kifiya5\\week0\\tenx-week-0-solar-data-discovery\\.venv\\Lib\\site-packages\\sklearn\\utils\\extmath.py:1126: RuntimeWarning: invalid value encountered in divide\n",
      "  new_unnormalized_variance -= correction**2 / new_sample_count\n"
     ]
    }
   ],
   "source": [
    "#Normalize numerical columns using StandardScaler\n",
    "if numerical_columns:\n",
    "    scaler = StandardScaler()\n",
    "    df[numerical_columns] = scaler.fit_transform(df[numerical_columns])"
   ]
  },
  {
   "cell_type": "markdown",
   "id": "8146d342",
   "metadata": {},
   "source": [
    "#### =>Check for Duplicates\n"
   ]
  },
  {
   "cell_type": "code",
   "execution_count": 11,
   "id": "b3a09adb",
   "metadata": {},
   "outputs": [
    {
     "name": "stdout",
     "output_type": "stream",
     "text": [
      "\n",
      "Number of Duplicate Rows: 0\n"
     ]
    }
   ],
   "source": [
    "print(\"\\nNumber of Duplicate Rows:\", data.duplicated().sum())"
   ]
  },
  {
   "cell_type": "code",
   "execution_count": 26,
   "id": "54261500",
   "metadata": {},
   "outputs": [
    {
     "name": "stdout",
     "output_type": "stream",
     "text": [
      "\n",
      "Duplicate rows before removal: 0\n",
      "Duplicate rows after removal: 0\n"
     ]
    }
   ],
   "source": [
    "#Remove Duplicates\n",
    "print(\"\\nDuplicate rows before removal:\", df.duplicated().sum())\n",
    "df = df.drop_duplicates().reset_index(drop=True)\n",
    "print(\"Duplicate rows after removal:\", df.duplicated().sum())"
   ]
  },
  {
   "cell_type": "code",
   "execution_count": 29,
   "id": "68784a08",
   "metadata": {},
   "outputs": [],
   "source": [
    "# Encode Categorical Variables\n",
    "# Since 'Timestamp' is the only categorical column, do not one-hot encode it.\n",
    "# Instead, extract useful time features.\n",
    "\n",
    "if 'Timestamp' in df.columns:\n",
    "    # Convert to datetime\n",
    "    df['Timestamp'] = pd.to_datetime(df['Timestamp'], errors='coerce')\n",
    "    # Extract features\n",
    "    df['year'] = df['Timestamp'].dt.year\n",
    "    df['month'] = df['Timestamp'].dt.month\n",
    "    df['day'] = df['Timestamp'].dt.day\n",
    "    df['hour'] = df['Timestamp'].dt.hour\n",
    "    df['minute'] = df['Timestamp'].dt.minute\n",
    "    # Optionally drop the original column if not needed\n",
    "    # df = df.drop('Timestamp', axis=1)\n"
   ]
  },
  {
   "cell_type": "code",
   "execution_count": 30,
   "id": "8d4d755c",
   "metadata": {},
   "outputs": [
    {
     "name": "stdout",
     "output_type": "stream",
     "text": [
      "\n",
      "Cleaned Dataset:\n",
      "             Timestamp       GHI       DNI       DHI      ModA      ModB  \\\n",
      "0 2021-08-09 00:01:00 -0.703196 -0.621179 -0.721519 -0.696656 -0.695861   \n",
      "1 2021-08-09 00:02:00 -0.702885 -0.621179 -0.721519 -0.696656 -0.695861   \n",
      "2 2021-08-09 00:03:00 -0.702885 -0.621179 -0.721519 -0.696656 -0.695861   \n",
      "3 2021-08-09 00:04:00 -0.702885 -0.620793 -0.720846 -0.696656 -0.695861   \n",
      "4 2021-08-09 00:05:00 -0.702574 -0.620793 -0.720846 -0.696656 -0.695861   \n",
      "\n",
      "       Tamb        RH        WS    WSgust  ...  Cleaning  Precipitation  \\\n",
      "0 -0.310378  1.383376 -1.366146 -1.223595  ...       0.0            0.0   \n",
      "1 -0.310378  1.390547 -1.366146 -1.439424  ...       0.0            0.0   \n",
      "2 -0.310378  1.394132 -1.163341 -0.845895  ...       0.0            0.0   \n",
      "3 -0.310378  1.379791 -1.230943 -1.061724  ...       0.0            0.0   \n",
      "4 -0.310378  1.379791 -1.298545 -1.061724  ...       0.0            0.0   \n",
      "\n",
      "      TModA     TModB  Comments  year  month  day  hour  minute  \n",
      "0 -0.573707 -0.477199       NaN  2021      8    9     0       1  \n",
      "1 -0.573707 -0.477199       NaN  2021      8    9     0       2  \n",
      "2 -0.566787 -0.477199       NaN  2021      8    9     0       3  \n",
      "3 -0.566787 -0.468935       NaN  2021      8    9     0       4  \n",
      "4 -0.566787 -0.468935       NaN  2021      8    9     0       5  \n",
      "\n",
      "[5 rows x 24 columns]\n"
     ]
    }
   ],
   "source": [
    "#Display the cleaned dataset\n",
    "print(\"\\nCleaned Dataset:\\n\", df.head())"
   ]
  },
  {
   "cell_type": "code",
   "execution_count": 31,
   "id": "8b4c85d1",
   "metadata": {},
   "outputs": [
    {
     "name": "stdout",
     "output_type": "stream",
     "text": [
      "<class 'pandas.core.frame.DataFrame'>\n",
      "RangeIndex: 499709 entries, 0 to 499708\n",
      "Data columns (total 24 columns):\n",
      " #   Column         Non-Null Count   Dtype         \n",
      "---  ------         --------------   -----         \n",
      " 0   Timestamp      499709 non-null  datetime64[ns]\n",
      " 1   GHI            499709 non-null  float64       \n",
      " 2   DNI            499709 non-null  float64       \n",
      " 3   DHI            499709 non-null  float64       \n",
      " 4   ModA           499709 non-null  float64       \n",
      " 5   ModB           499709 non-null  float64       \n",
      " 6   Tamb           499709 non-null  float64       \n",
      " 7   RH             499709 non-null  float64       \n",
      " 8   WS             499709 non-null  float64       \n",
      " 9   WSgust         499709 non-null  float64       \n",
      " 10  WSstdev        499709 non-null  float64       \n",
      " 11  WD             499709 non-null  float64       \n",
      " 12  WDstdev        499709 non-null  float64       \n",
      " 13  BP             499709 non-null  float64       \n",
      " 14  Cleaning       499709 non-null  float64       \n",
      " 15  Precipitation  499709 non-null  float64       \n",
      " 16  TModA          499709 non-null  float64       \n",
      " 17  TModB          499709 non-null  float64       \n",
      " 18  Comments       0 non-null       float64       \n",
      " 19  year           499709 non-null  int32         \n",
      " 20  month          499709 non-null  int32         \n",
      " 21  day            499709 non-null  int32         \n",
      " 22  hour           499709 non-null  int32         \n",
      " 23  minute         499709 non-null  int32         \n",
      "dtypes: datetime64[ns](1), float64(18), int32(5)\n",
      "memory usage: 82.0 MB\n",
      "\n",
      "Cleaned Dataset:\n",
      " None\n"
     ]
    }
   ],
   "source": [
    "\n",
    "print(\"\\nCleaned Dataset:\\n\", df.info())"
   ]
  },
  {
   "cell_type": "code",
   "execution_count": 32,
   "id": "9b6bb91c",
   "metadata": {},
   "outputs": [
    {
     "name": "stdout",
     "output_type": "stream",
     "text": [
      "\n",
      "Cleaned dataset saved to ../data/benin_clean.csv\n"
     ]
    }
   ],
   "source": [
    "#Save cleaned dataset to a new CSV file\n",
    "output_file = '../data/benin_clean.csv'\n",
    "df.to_csv(output_file, index=False)\n",
    "print(f\"\\nCleaned dataset saved to {output_file}\")"
   ]
  },
  {
   "cell_type": "markdown",
   "id": "f61266e9",
   "metadata": {},
   "source": [
    "### 3. Perform exploratory data analysis (EDA)"
   ]
  },
  {
   "cell_type": "code",
   "execution_count": 33,
   "id": "43cd11d1",
   "metadata": {},
   "outputs": [
    {
     "name": "stdout",
     "output_type": "stream",
     "text": [
      "Dataset loaded successfully. Shape: (499709, 24)\n"
     ]
    }
   ],
   "source": [
    "data = '../data/benin_clean.csv'  \n",
    "\n",
    "try:\n",
    "    # Load the CSV file\n",
    "    df = pd.read_csv(data)\n",
    "    print(\"Dataset loaded successfully. Shape:\", df.shape)\n",
    "except FileNotFoundError:\n",
    "    print(f\"Error: The file {data} was not found. Please provide the correct file path.\")\n",
    "    exit()\n",
    "except Exception as e:\n",
    "    print(f\"Error loading CSV file: {e}\")\n",
    "    exit()"
   ]
  },
  {
   "cell_type": "markdown",
   "id": "50702529",
   "metadata": {},
   "source": [
    "#### I. Univariate Analysis"
   ]
  },
  {
   "cell_type": "code",
   "execution_count": null,
   "id": "4ecd2aec",
   "metadata": {},
   "outputs": [
    {
     "data": {
      "image/png": "[encoded data removed]",
      "text/plain": [
       "<Figure size 1000x600 with 1 Axes>"
      ]
     },
     "metadata": {},
     "output_type": "display_data"
    }
   ],
   "source": [
    "plt.figure(figsize=(10, 6))\n",
    "sns.barplot(x=\"GHI\", data=df)\n",
    "# Customize the plot\n",
    "plt.title(\"GHI Distribution\")\n",
    "# plt.xticks(rotation=45, ha='right')  # Rotate x-axis labels if needed\n",
    "plt.tight_layout()  # Adjust layout to prevent label cutoff\n",
    "# Display the plot\n",
    "plt.show()"
   ]
  },
  {
   "cell_type": "code",
   "execution_count": 38,
   "id": "ee54c85d",
   "metadata": {},
   "outputs": [
    {
     "data": {
      "image/png": "[encoded data removed]",
      "text/plain": [
       "<Figure size 1000x600 with 1 Axes>"
      ]
     },
     "metadata": {},
     "output_type": "display_data"
    }
   ],
   "source": [
    "plt.figure(figsize=(10, 6))\n",
    "sns.barplot(x=\"DNI\", data=df)\n",
    "# Customize the plot\n",
    "plt.title(\"DNI Distribution\")\n",
    "# plt.xticks(rotation=45, ha='right')  # Rotate x-axis labels if needed\n",
    "plt.tight_layout()  # Adjust layout to prevent label cutoff\n",
    "# Display the plot\n",
    "plt.show()"
   ]
  },
  {
   "cell_type": "code",
   "execution_count": 39,
   "id": "d4637cb3",
   "metadata": {},
   "outputs": [
    {
     "data": {
      "image/png": "[encoded data removed]",
      "text/plain": [
       "<Figure size 1000x600 with 1 Axes>"
      ]
     },
     "metadata": {},
     "output_type": "display_data"
    }
   ],
   "source": [
    "plt.figure(figsize=(10, 6))\n",
    "sns.barplot(x=\"DHI\", data=df)\n",
    "# Customize the plot\n",
    "plt.title(\"DHI Distribution\")\n",
    "plt.xticks(rotation=45, ha='right')  # Rotate x-axis labels if needed\n",
    "plt.tight_layout()  # Adjust layout to prevent label cutoff\n",
    "# Display the plot\n",
    "plt.show()"
   ]
  },
  {
   "cell_type": "code",
   "execution_count": 40,
   "id": "9d4c240a",
   "metadata": {},
   "outputs": [
    {
     "data": {
      "image/png": "[encoded data removed]",
      "text/plain": [
       "<Figure size 1000x600 with 1 Axes>"
      ]
     },
     "metadata": {},
     "output_type": "display_data"
    }
   ],
   "source": [
    "plt.figure(figsize=(10, 6))\n",
    "sns.barplot(x=\"Tamb\", data=df)\n",
    "# Customize the plot\n",
    "plt.title(\"Tamb Distribution\")\n",
    "plt.xticks(rotation=45, ha='right')  # Rotate x-axis labels if needed\n",
    "plt.tight_layout()  # Adjust layout to prevent label cutoff\n",
    "# Display the plot\n",
    "plt.show()"
   ]
  },
  {
   "cell_type": "code",
   "execution_count": null,
   "id": "d4ddf753",
   "metadata": {},
   "outputs": [],
   "source": []
  }
 ],
 "metadata": {
  "kernelspec": {
   "display_name": "Python 3",
   "language": "python",
   "name": "python3"
  },
  "language_info": {
   "codemirror_mode": {
    "name": "ipython",
    "version": 3
   },
   "file_extension": ".py",
   "mimetype": "text/x-python",
   "name": "python",
   "nbconvert_exporter": "python",
   "pygments_lexer": "ipython3",
   "version": "undefined.undefined.undefined"
  }
 },
 "nbformat": 4,
 "nbformat_minor": 5
}
