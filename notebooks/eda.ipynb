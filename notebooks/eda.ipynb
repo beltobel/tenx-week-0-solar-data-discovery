{
 "cells": [
  {
   "cell_type": "markdown",
   "id": "5ba289c5",
   "metadata": {},
   "source": [
    "### importing necessary libraries "
   ]
  },
  {
   "cell_type": "code",
   "execution_count": 6,
   "id": "8e1d8767",
   "metadata": {},
   "outputs": [],
   "source": [
    "import pandas as pd\n",
    "import numpy as np\n",
    "import matplotlib.pyplot as plt\n",
    "import seaborn as sns\n",
    "from scipy import stats"
   ]
  },
  {
   "cell_type": "markdown",
   "id": "6337ff44",
   "metadata": {},
   "source": [
    "### 1. Business understanding \n",
    "MoonLight Energy Solutions aims to develop a strategic approach to significantly enhance its operational efficiency and sustainability through targeted solar investments\n",
    "goal: to perform a quick analysis of an environmental measurement provided by the engineering team and translate your observation as a strategy report for the company"
   ]
  },
  {
   "cell_type": "markdown",
   "id": "8473aea7",
   "metadata": {},
   "source": [
    "### 2. Data understanding\n",
    "     - datasets  sources.\n",
    "        -data source from: https://energydata.info/dataset/?q=Solar+Radiation+Measurement&vocab_regions=AFR\n",
    "\n",
    "     -data structure and variable descriptions.\n",
    "        -Each row in the data contains the values for solar radiation, air temperature, relative humidity, barometric pressure, precipitation, wind speed, and wind direction, cleaned and soiled radiance sensor (soiling measurement) and cleaning events."
   ]
  },
  {
   "cell_type": "code",
   "execution_count": null,
   "id": "bf33e658",
   "metadata": {},
   "outputs": [],
   "source": []
  },
  {
   "cell_type": "code",
   "execution_count": null,
   "id": "5c90c216",
   "metadata": {},
   "outputs": [],
   "source": []
  }
 ],
 "metadata": {
  "kernelspec": {
   "display_name": "Python 3",
   "language": "python",
   "name": "python3"
  },
  "language_info": {
   "codemirror_mode": {
    "name": "ipython",
    "version": 3
   },
   "file_extension": ".py",
   "mimetype": "text/x-python",
   "name": "python",
   "nbconvert_exporter": "python",
   "pygments_lexer": "ipython3",
   "version": "3.13.1"
  }
 },
 "nbformat": 4,
 "nbformat_minor": 5
}
